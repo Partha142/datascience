{
 "cells": [
  {
   "cell_type": "code",
   "execution_count": 2,
   "id": "549fb5fa",
   "metadata": {},
   "outputs": [],
   "source": [
    "data = \"Welcome to the Data Science World\""
   ]
  },
  {
   "cell_type": "code",
   "execution_count": 3,
   "id": "e64afd15",
   "metadata": {},
   "outputs": [
    {
     "name": "stdout",
     "output_type": "stream",
     "text": [
      "Welcome to the Data Science World\n"
     ]
    }
   ],
   "source": [
    "print(data)"
   ]
  },
  {
   "cell_type": "code",
   "execution_count": 4,
   "id": "8330c129",
   "metadata": {},
   "outputs": [],
   "source": [
    "a =\"My Name is Partha Goswami\""
   ]
  },
  {
   "cell_type": "code",
   "execution_count": 5,
   "id": "ac8ae53a",
   "metadata": {},
   "outputs": [
    {
     "name": "stdout",
     "output_type": "stream",
     "text": [
      "My Name is Partha Goswami\n"
     ]
    }
   ],
   "source": [
    "print(a)"
   ]
  },
  {
   "cell_type": "code",
   "execution_count": null,
   "id": "337d9af7",
   "metadata": {},
   "outputs": [],
   "source": []
  }
 ],
 "metadata": {
  "kernelspec": {
   "display_name": "Python 3 (ipykernel)",
   "language": "python",
   "name": "python3"
  },
  "language_info": {
   "codemirror_mode": {
    "name": "ipython",
    "version": 3
   },
   "file_extension": ".py",
   "mimetype": "text/x-python",
   "name": "python",
   "nbconvert_exporter": "python",
   "pygments_lexer": "ipython3",
   "version": "3.10.9"
  }
 },
 "nbformat": 4,
 "nbformat_minor": 5
}
